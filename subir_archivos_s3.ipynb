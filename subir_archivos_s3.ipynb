{
  "cells": [
    {
      "cell_type": "markdown",
      "metadata": {
        "id": "view-in-github",
        "colab_type": "text"
      },
      "source": [
        "<a href=\"https://colab.research.google.com/github/Patri-Ale-Gimenez/PORTFOLIO/blob/main/subir_archivos_s3.ipynb\" target=\"_parent\"><img src=\"https://colab.research.google.com/assets/colab-badge.svg\" alt=\"Open In Colab\"/></a>"
      ]
    },
    {
      "cell_type": "code",
      "execution_count": null,
      "id": "78343817",
      "metadata": {
        "id": "78343817"
      },
      "outputs": [],
      "source": [
        "# ==========================================================\n",
        "#  PASO 1: IMPORTACIÓN DE LIBRERÍAS\n",
        "# ==========================================================\n",
        "import boto3\n",
        "import os\n",
        "from botocore.exceptions import NoCredentialsError\n",
        "from dotenv import load_dotenv\n",
        "from pathlib import Path"
      ]
    },
    {
      "cell_type": "code",
      "execution_count": null,
      "id": "9aaac046",
      "metadata": {
        "id": "9aaac046"
      },
      "outputs": [],
      "source": [
        "# ==========================================================\n",
        "#  PASO 2: CARGA DE VARIABLES Y CONFIGURACIÓN\n",
        "# ==========================================================\n",
        "\n",
        "load_dotenv()  # carga las variables definidas en .env\n",
        "\n",
        "BUCKET_NAME = os.getenv(\"BUCKET_NAME\")\n",
        "LOCAL_FOLDER = os.getenv(\"LOCAL_FOLDER\")\n",
        "AWS_ACCESS_KEY_ID = os.getenv(\"AWS_ACCESS_KEY_ID\")\n",
        "AWS_SECRET_ACCESS_KEY = os.getenv(\"AWS_SECRET_ACCESS_KEY\")\n",
        "AWS_DEFAULT_REGION = os.getenv(\"AWS_DEFAULT_REGION\")"
      ]
    },
    {
      "cell_type": "code",
      "execution_count": null,
      "id": "6f7e7c88",
      "metadata": {
        "id": "6f7e7c88"
      },
      "outputs": [],
      "source": [
        "# ======================================================================================================\n",
        "#  PASO 3: Funcion que Sube todos los archivos contenidos en una carpeta local a un bucket de Amazon S3\n",
        "# ======================================================================================================\n",
        "\n",
        "def subir_archivo_to_s3(local_folder, bucket):\n",
        "\n",
        "    s3 = boto3.client(\n",
        "        \"s3\",\n",
        "        aws_access_key_id=AWS_ACCESS_KEY_ID,\n",
        "        aws_secret_access_key=AWS_SECRET_ACCESS_KEY,\n",
        "        region_name=AWS_DEFAULT_REGION\n",
        "    )\n",
        "\n",
        "    try:\n",
        "        for filename in os.listdir(local_folder):\n",
        "            local_path = os.path.join(local_folder, filename)\n",
        "            if os.path.isfile(local_path):\n",
        "                s3.upload_file(local_path, bucket, filename)\n",
        "                print(f\"Subido: {local_path} → s3://{bucket}/{filename}\")\n",
        "    except FileNotFoundError:\n",
        "        print(\"Carpeta local no encontrada\")\n",
        "    except NoCredentialsError:\n",
        "        print(\"No se encontraron credenciales\")"
      ]
    },
    {
      "cell_type": "code",
      "execution_count": null,
      "id": "e661c67a",
      "metadata": {
        "id": "e661c67a",
        "outputId": "2334a50f-7299-4792-ca82-bfc486ed3f57"
      },
      "outputs": [
        {
          "name": "stdout",
          "output_type": "stream",
          "text": [
            "Subido: C:\\Users\\Admin\\Desktop\\practico_s3\\practico_s3\\datos\\pacientesBronce.csv → s3://pruebas3.local/pacientesBronce.csv\n",
            "Subido: C:\\Users\\Admin\\Desktop\\practico_s3\\practico_s3\\datos\\pacientes_crudo.csv → s3://pruebas3.local/pacientes_crudo.csv\n"
          ]
        }
      ],
      "source": [
        "#=============================================\n",
        "# PASO 4: LLAMADO DIRECTO DESDE SCRIPT\n",
        "#=============================================\n",
        "\n",
        "if __name__ == \"__main__\":\n",
        "    subir_archivo_to_s3(LOCAL_FOLDER, BUCKET_NAME)"
      ]
    }
  ],
  "metadata": {
    "kernelspec": {
      "display_name": "Python 3",
      "language": "python",
      "name": "python3"
    },
    "language_info": {
      "codemirror_mode": {
        "name": "ipython",
        "version": 3
      },
      "file_extension": ".py",
      "mimetype": "text/x-python",
      "name": "python",
      "nbconvert_exporter": "python",
      "pygments_lexer": "ipython3",
      "version": "3.13.3"
    },
    "colab": {
      "provenance": [],
      "include_colab_link": true
    }
  },
  "nbformat": 4,
  "nbformat_minor": 5
}